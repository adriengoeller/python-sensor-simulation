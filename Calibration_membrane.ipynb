{
 "cells": [
  {
   "cell_type": "code",
   "execution_count": null,
   "metadata": {},
   "outputs": [],
   "source": [
    "# Imports\n",
    "import sensorsim.instruments\n",
    "import sensorsim.montages\n",
    "import numpy as np\n",
    "import plotly"
   ]
  },
  {
   "cell_type": "code",
   "execution_count": null,
   "metadata": {},
   "outputs": [],
   "source": [
    "# Etude paroi\n",
    "def f_2(e,P_i,L, E = 130e9):\n",
    "    P = (P_i-1.1e5)\n",
    "    return 2*( (3*P * ( 1 - 0.4**2 ) / (16 *E* e**3  ) * (L/2)**4 )**2+(L/2)**2)**.5\n",
    "\n",
    "def f(e,P_i,L):\n",
    "    S = (diameter/2)**2 *pi\n",
    "    F = (P_i-1.1e5)/S\n",
    "    Igz = e*L/12*(e**2+L**2)\n",
    "    E = 130e9\n",
    "    # return 3*P * ( 1 - 0.4**2 ) / (16 * e**3  ) * (L/2)**4\n",
    "    return 2*( ( E*Igz * (F/12*(x)**3-F*L**2*(x)/16) )**2+(L/2)**2)**.5\n",
    "res=[]\n",
    "r = []\n",
    "rr = []\n",
    "\n",
    "\n",
    "env = instruments.Environment()\n",
    "L= 1e-3\n",
    "e= 100e-6\n",
    "E = 130e9\n",
    "Igz = e*L/12*(e**2+L**2)\n",
    "P_atm = 1.013e5\n",
    "P = 1.013e5\n",
    "membrane = montages.Membrane(E = env, EIgz=E*Igz,  diameter= L, P_calib = P_atm+0.1e5)\n",
    "\n",
    "\n",
    "\n",
    "import plotly.graph_objects as px\n",
    "fig = px.Figure()\n",
    "\n",
    "for P in [.2e5, 1.1e5]:\n",
    "    for e in [1e-3,1e-4,1e-5,1e-6]:\n",
    "        for i in range(1, 100,1):\n",
    "            L = 2e-4*i\n",
    "            membrane.epais = e\n",
    "            membrane.E.P = P\n",
    "            membrane.L = L\n",
    "            # print(membrane.compute_def_z(), membrane.get_def_x())\n",
    "            rr.append(L)\n",
    "            # res.append(membrane.compute_def_z())\n",
    "            r.append((membrane.get_def_x()-L)/L)\n",
    "            # r.append(f_2(e,P,L)-L)\n",
    "        \n",
    "        # r.append(res)\n",
    "        # fig.add_trace(px.Scatter(x=rr, y=res, mode='lines', name = f\"z{P/1e5},L={L}\"))\n",
    "        fig.add_trace(px.Scatter(x=rr, y=r, mode='lines', name = f\"x{P/1e5},e={e}\"))\n",
    "        res=[]\n",
    "        r = []\n",
    "        rr = []\n",
    "    # rr.append(r)\n",
    "fig.update_yaxes(range=[-1, 1])\n",
    "fig.show()\n",
    "\n"
   ]
  }
 ],
 "metadata": {
  "kernelspec": {
   "display_name": ".venv3.8",
   "language": "python",
   "name": "python3"
  },
  "language_info": {
   "codemirror_mode": {
    "name": "ipython",
    "version": 3
   },
   "file_extension": ".py",
   "mimetype": "text/x-python",
   "name": "python",
   "nbconvert_exporter": "python",
   "pygments_lexer": "ipython3",
   "version": "3.8.2"
  },
  "orig_nbformat": 2,
  "vscode": {
   "interpreter": {
    "hash": "5b210256c4f5ef1d9e2f01e313367e9f23ff6e181624a78d4b22175e5550e6b4"
   }
  }
 },
 "nbformat": 4,
 "nbformat_minor": 2
}
