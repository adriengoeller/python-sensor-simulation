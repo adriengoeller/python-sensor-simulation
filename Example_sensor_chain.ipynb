{
  "cells": [
    {
      "cell_type": "code",
      "execution_count": null,
      "metadata": {
        "colab": {
          "base_uri": "https://localhost:8080/",
          "height": 411
        },
        "id": "2HvkyZ2NYQ_p",
        "outputId": "ce4000aa-aee0-42dd-b4fa-6f807c3e8f82"
      },
      "outputs": [],
      "source": [
        "!pip install git+https://github.com/adriengoeller/python-sensor-simulation --force-reinstall"
      ]
    },
    {
      "cell_type": "code",
      "execution_count": null,
      "metadata": {
        "id": "DvHXQerwYUcr"
      },
      "outputs": [],
      "source": [
        "# Noms:\n",
        "# Prénoms :\n",
        "# Classe :"
      ]
    },
    {
      "cell_type": "code",
      "execution_count": null,
      "metadata": {
        "id": "iBOhYeVbYXaG"
      },
      "outputs": [],
      "source": [
        "# Imports\n",
        "from sensorsim import instruments, montages\n",
        "import numpy as np"
      ]
    },
    {
      "cell_type": "code",
      "execution_count": null,
      "metadata": {
        "id": "qQ3V2xS8Yeac"
      },
      "outputs": [],
      "source": [
        "# Programmation de l'enceinte\n",
        "\n",
        "# ___________________________________\n",
        "# Durée de l'expérience temps : 60 sec pas de temps 0.1s\n",
        "duree_s = 60\n",
        "pas_de_temps_experience_ms = 100\n",
        "pas_de_temps_realite_ms = 10\n",
        "\n",
        "tg = instruments.TimeGenerator(duree_s, pas_de_temps_experience_ms, pas_de_temps_realite_ms)\n",
        "\n",
        "# Aide profils de pression/température\n",
        "# - np.linspace(101325.0,26442.18910734488 , tg.size_exp) permet d'avoir une fonction linéaire entre le départ et l'arrivée avec tg.size_exp nombre de point\n",
        "# - tg.size_exp correspond au nombre de points attendus selon les paramètres de temps plus haut.\n",
        "# - On peut faire des échelons : np.ones(tg.size_exp)*20 est une valeur constante de 20 sur le nombre de point tg.size_exp\n",
        "# - On peut faire plusieurs échelons : np.concatenate([np.ones(10)*0, np.ones(tg.size_exp-10)*20])\n",
        "# permet d'avoir un échelon à 0 pendant 10 pas de temps et le reste à 20.\n",
        "# - On peut combiner plusieurs : np.concatenate([np.ones(10)*101325.0, np.linspace(101325.0,26442.18910734488 , tg.size_exp-20), np.ones(10)*0])\n",
        "\n",
        "# - Pression :\n",
        "# la pression est paramétrée pour aller de p1 à p2\n",
        "p1 = 101325.0\n",
        "p2 = 26442.2\n",
        "simu_P = np.linspace(p1 ,p2 , tg.size_exp)\n",
        "\n",
        "# - Température :\n",
        "simu_T = np.ones(tg.size_exp)*20\n",
        "\n",
        "# Initialisation de l'environnement :\n",
        "env = instruments.Environment(tg)\n",
        "\n"
      ]
    },
    {
      "cell_type": "code",
      "execution_count": null,
      "metadata": {
        "id": "0ArU3gtiYhg-"
      },
      "outputs": [],
      "source": [
        "# Variables :\n",
        "L= 2.8e-3\n",
        "e= 1e-5\n",
        "E = 130e9\n",
        "Igz = e*L/12*(e**2+L**2)\n",
        "P_atm = 1.2e5\n",
        "P = 1.013e5\n",
        "\n",
        "# initialisation des instruments\n",
        "\n",
        "TE = instruments.TestEnclosure(env, simu_P, simu_T, tg)\n",
        "membrane = instruments.Membrane(E=env, EIgz=E*Igz, diameter=L, P_calib=P_atm)\n",
        "\n",
        "quality=\"normal\"\n",
        "R1 = instruments.Resistance(E=env, R=10e3, quality=quality)\n",
        "R2 = instruments.Resistance(E=env, R=17.9e3, quality=quality)\n",
        "R3 = instruments.Resistance(E=env, R=1e3, quality=quality)\n",
        "R4 = instruments.Resistance(E=env, R=1.79e3,K=2, quality=quality)\n",
        "\n",
        "\n",
        "# on attache la résistance à la membrane\n",
        "R4.attach_membrane(membrane,-1)\n",
        "\n",
        "\n",
        "# Generateur\n",
        "gen = instruments.Generateur(v_alim=5.0)\n",
        "\n",
        " # Resistances gain\n",
        "\n",
        "R1_ao = instruments.Resistance(E=env, R=2.7e3)\n",
        "R2_ao = instruments.Resistance(E=env, R=92e3)\n",
        "R3_ao = instruments.Resistance(E=env, R=10)\n",
        "R4_ao = instruments.Resistance(E=env, R=100e3)\n",
        "\n",
        "gen_ao = instruments.Generateur(v_alim=89/250)\n",
        "\n",
        "wheastone = montages.Wheastone(R1, R2, R3, R4)\n",
        "\n",
        "# Etage du CAN\n",
        "h = instruments.Horloge(env, 10, 10)\n",
        "EB = instruments.EchantillonneurBloqueur(h,10)\n",
        "can = instruments.CanCompare(h, 8, 5) # 8 bits / 5V alim\n",
        "\n",
        "# CPU\n",
        "cpu = instruments.Cpu(env,h)\n",
        "\n",
        "# init recorder\n",
        "\n",
        "r = instruments.Recorder(env)\n",
        "r.config(\n",
        "    {\n",
        "        \"P\":[\"P\",False],\n",
        "        \"T\":[\"T\",False],\n",
        "        \"dL\":[\"dL\",False],\n",
        "        \"R1\":[\"R1\",False],\n",
        "        \"R2\":[\"R2\",False],\n",
        "        \"R3\":[\"R3\",False],\n",
        "        \"R4\":[\"R4\",False],\n",
        "        \"Vm\":[\"Vm\", False],\n",
        "        \"Vg\":[\"Vg\", False],\n",
        "        \"hh\":[\"horloge\",True],\n",
        "        \"EB\":[\"EB\",True],\n",
        "        \"cout\":[\"can output\",True],\n",
        "        \"cint\":[\"can internal\",True],\n",
        "        \"cpu\":[\"cpu\",True]\n",
        "    }\n",
        ")\n"
      ]
    },
    {
      "cell_type": "code",
      "execution_count": null,
      "metadata": {
        "id": "ey__mMlvZAbC"
      },
      "outputs": [],
      "source": [
        "# Lancement de l'expérience :\n",
        "\n",
        "for tt in tg:\n",
        "\n",
        "    Vm = wheastone(gen())\n",
        "    Vg = montages.montage_ampli_op(gen_ao(), Vm, R1_ao(), R2_ao(), R3_ao(), R4_ao())\n",
        "    vb=EB(Vg)\n",
        "    can(vb)\n",
        "    cpu(can.out)\n",
        "\n",
        "    snp = {\n",
        "            \"P\":env.P,\n",
        "            \"T\":env.T,\n",
        "            \"dL\":membrane.L_def,\n",
        "            \"R1\":R1(),\n",
        "            \"R2\":R2(),\n",
        "            \"R3\":R3(),\n",
        "            \"R4\":R4(),\n",
        "            \"Vm\":Vm,\n",
        "            \"Vg\":Vg,\n",
        "            \"hh\":h.value,\n",
        "            \"EB\":vb,\n",
        "            \"cout\":can.out,\n",
        "            \"cint\":can.internal,\n",
        "            \"cpu\":cpu.altitude\n",
        "            }\n",
        "\n",
        "    r.snapshot(snp)"
      ]
    },
    {
      "cell_type": "code",
      "execution_count": null,
      "metadata": {
        "colab": {
          "base_uri": "https://localhost:8080/",
          "height": 1000
        },
        "id": "Nk3kKmZRZC4d",
        "outputId": "35f67c7e-c8b5-4305-b1c2-b30b3c655c0a"
      },
      "outputs": [],
      "source": [
        "# Affichage des résultats sur les appareils :\n",
        "r.plot(\n",
        "        {\n",
        "            1:\"P\",2:\"T\", 3:\"dL\", 4:[\"R1\",\"R2\",\"R3\",\"R4\"], 5:\"Vm\", 6:\"Vg\",7:[\"cint\",\"cout\",\"EB\"], 8:\"hh\",9:\"cpu\"\n",
        "        }\n",
        "    )"
      ]
    }
  ],
  "metadata": {
    "colab": {
      "provenance": []
    },
    "kernelspec": {
      "display_name": "Python 3",
      "name": "python3"
    },
    "language_info": {
      "name": "python"
    }
  },
  "nbformat": 4,
  "nbformat_minor": 0
}
