{
 "cells": [
  {
   "cell_type": "code",
   "execution_count": null,
   "metadata": {},
   "outputs": [],
   "source": [
    "!pip install git+https://github.com/adriengoeller/python-sensor-simulation --force-reinstall"
   ]
  },
  {
   "cell_type": "code",
   "execution_count": null,
   "metadata": {},
   "outputs": [],
   "source": [
    "# Noms: \n",
    "# Prénoms :\n",
    "# Classe : "
   ]
  },
  {
   "cell_type": "code",
   "execution_count": null,
   "metadata": {},
   "outputs": [],
   "source": [
    "# Imports\n",
    "from sensorsim import instruments, montages\n",
    "import numpy as np\n",
    "import plotly"
   ]
  },
  {
   "cell_type": "code",
   "execution_count": null,
   "metadata": {},
   "outputs": [],
   "source": [
    "# Instruments utilisés :\n",
    "env = instruments.Environment()\n",
    "\n",
    "\n"
   ]
  },
  {
   "cell_type": "code",
   "execution_count": null,
   "metadata": {},
   "outputs": [],
   "source": [
    "# Programmation de l'enceinte\n",
    "\n",
    "# ___________________________________\n",
    "# Durée de l'expérience temps : 60 sec pas de temps 0.1s\n",
    "duree_s = 60\n",
    "pas_de_temps_experience_ms = 100\n",
    "pas_de_temps_realite_ms = 10\n",
    "\n",
    "tg = instruments.TimeGenerator(duree_s, pas_de_temps_experience_ms, pas_de_temps_realite_ms)\n",
    "# - Pression :\n",
    "# la pression est paramétrée pour aller de p1 à p2\n",
    "simu_P = np.linspace(101325.0,26442.18910734488 , tg.size_exp) \n",
    "\n",
    "# - Température :\n",
    "simu_T = np.ones(tg.size_exp)*20\n",
    "\n",
    "# Initialisation de l'environnement :\n",
    "env = instruments.Environment(tg)\n"
   ]
  },
  {
   "cell_type": "code",
   "execution_count": null,
   "metadata": {},
   "outputs": [],
   "source": [
    "# initialisation des instruments\n",
    "\n",
    "TE = instruments.TestEnclosure(env, simu_P, simu_T, tg)\n",
    "\n",
    "# init recorder\n",
    "\n",
    "r = instruments.Recorder(env)\n",
    "r.config(\n",
    "    {\n",
    "        \"P\":[\"P\",False],\n",
    "        \"T\":[\"T\",False],\n",
    "    }\n",
    ")\n"
   ]
  },
  {
   "cell_type": "code",
   "execution_count": null,
   "metadata": {},
   "outputs": [],
   "source": [
    "# Lancement de l'expérience : \n",
    "\n",
    "for tt in tg:\n",
    "    snp = {        \n",
    "            \"P\":env.P,\n",
    "            \"T\":env.T\n",
    "            }\n",
    "    \n",
    "    r.snapshot(snp)"
   ]
  },
  {
   "cell_type": "code",
   "execution_count": null,
   "metadata": {},
   "outputs": [],
   "source": [
    "# Stockage de variables pour le rapport\n",
    "# %store variable"
   ]
  },
  {
   "cell_type": "code",
   "execution_count": null,
   "metadata": {},
   "outputs": [],
   "source": [
    "# Affichage des résultats sur les appareils :\n",
    "r.plot(\n",
    "        {\n",
    "            1:\"P\",2:\"T\"\n",
    "        }\n",
    "    )\n",
    "\n"
   ]
  },
  {
   "cell_type": "code",
   "execution_count": null,
   "metadata": {},
   "outputs": [],
   "source": []
  }
 ],
 "metadata": {
  "kernelspec": {
   "display_name": ".venv3.8",
   "language": "python",
   "name": "python3"
  },
  "language_info": {
   "codemirror_mode": {
    "name": "ipython",
    "version": 3
   },
   "file_extension": ".py",
   "mimetype": "text/x-python",
   "name": "python",
   "nbconvert_exporter": "python",
   "pygments_lexer": "ipython3",
   "version": "3.8.2"
  },
  "orig_nbformat": 2,
  "vscode": {
   "interpreter": {
    "hash": "5b210256c4f5ef1d9e2f01e313367e9f23ff6e181624a78d4b22175e5550e6b4"
   }
  }
 },
 "nbformat": 4,
 "nbformat_minor": 2
}
